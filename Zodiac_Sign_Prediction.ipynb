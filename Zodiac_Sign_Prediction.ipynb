{
 "cells": [
  {
   "cell_type": "code",
   "execution_count": 4,
   "metadata": {},
   "outputs": [
    {
     "name": "stdout",
     "output_type": "stream",
     "text": [
      "Enter the day of your month : 27\n",
      "Enter the month : december\n",
      "capricorn\n"
     ]
    }
   ],
   "source": [
    "# Display Zodiac sign for given date of birth \n",
    "\n",
    "def zodiac_sign(day, month): \n",
    "    if month == 'december': \n",
    "        astro_sign = 'Sagittarius' if (day < 22) else 'capricorn'\n",
    "    elif month == 'january': \n",
    "        astro_sign = 'Capricorn' if (day < 20) else 'aquarius'\n",
    "        \n",
    "    elif month == 'february': \n",
    "        astro_sign = 'Aquarius' if (day < 19) else 'pisces'\n",
    "        \n",
    "    elif month == 'march': \n",
    "        astro_sign = 'Pisces' if (day < 21) else 'aries'\n",
    "        \n",
    "    elif month == 'april': \n",
    "        astro_sign = 'Aries' if (day < 20) else 'taurus'\n",
    "        \n",
    "    elif month == 'may': \n",
    "        astro_sign = 'Taurus' if (day < 21) else 'gemini'\n",
    "        \n",
    "    elif month == 'june': \n",
    "        astro_sign = 'Gemini' if (day < 21) else 'cancer'\n",
    "        \n",
    "    elif month == 'july': \n",
    "        astro_sign = 'Cancer' if (day < 23) else 'leo'\n",
    "        \n",
    "    elif month == 'august': \n",
    "        astro_sign = 'Leo' if (day < 23) else 'virgo'\n",
    "        \n",
    "    elif month == 'september': \n",
    "        astro_sign = 'Virgo' if (day < 23) else 'libra'\n",
    "        \n",
    "    elif month == 'october': \n",
    "        astro_sign = 'Libra' if (day < 23) else 'scorpio'\n",
    "        \n",
    "    elif month == 'november': \n",
    "        astro_sign = 'scorpio' if (day < 22) else 'sagittarius'\n",
    "        \n",
    "    print(astro_sign) \n",
    "day =int(input('Enter the day of your month : '))\n",
    "month = input(\"Enter the month : \")\n",
    "zodiac_sign(day, month) \n"
   ]
  },
  {
   "cell_type": "code",
   "execution_count": null,
   "metadata": {},
   "outputs": [],
   "source": []
  }
 ],
 "metadata": {
  "kernelspec": {
   "display_name": "Python 3",
   "language": "python",
   "name": "python3"
  },
  "language_info": {
   "codemirror_mode": {
    "name": "ipython",
    "version": 3
   },
   "file_extension": ".py",
   "mimetype": "text/x-python",
   "name": "python",
   "nbconvert_exporter": "python",
   "pygments_lexer": "ipython3",
   "version": "3.6.7"
  }
 },
 "nbformat": 4,
 "nbformat_minor": 2
}
